{
 "cells": [
  {
   "cell_type": "markdown",
   "metadata": {},
   "source": [
    "# Capstone Webscraping using BeautifulSoup\n",
    "\n",
    "This notebook contains guidances & tasks on the data processing for the application\n",
    "\n",
    "## Background\n",
    "\n",
    "Analyzing the changes of inflation rate in Indonesia by comparing inflation rate on monthly basis and yearly basis.\n",
    "\n",
    "## Requesting the Data and Creating a BeautifulSoup\n",
    "\n",
    "Let's start by requesting the webpage using the `get` method from the `requests` library."
   ]
  },
  {
   "cell_type": "code",
   "execution_count": 85,
   "metadata": {
    "ExecuteTime": {
     "end_time": "2020-01-13T05:12:23.275508Z",
     "start_time": "2020-01-13T05:12:20.009898Z"
    }
   },
   "outputs": [],
   "source": [
    "import requests\n",
    "\n",
    "url_get = requests.get('https://pusatdata.kontan.co.id/makroekonomi/inflasi')"
   ]
  },
  {
   "cell_type": "markdown",
   "metadata": {},
   "source": [
    "To visualize what exactly you get from the `request.get`, we can use `.content` so see what we exactly get (HTML content), in here i slice it so it won't make our screen full of the html we get from the page. You can delete the slicing if you want to see what we fully get."
   ]
  },
  {
   "cell_type": "code",
   "execution_count": 86,
   "metadata": {
    "ExecuteTime": {
     "end_time": "2020-01-13T05:12:23.290648Z",
     "start_time": "2020-01-13T05:12:23.277650Z"
    }
   },
   "outputs": [
    {
     "data": {
      "text/plain": [
       "b'!DOCTYPE html PUBLIC \"-//W3C//DTD XHTML 1.0 Transitional//EN\" \"http://www.w3.org/TR/xhtml1/DTD/xhtml1-transitional.dtd\">\\n<html xmlns=\"http://www.w3.org/1999/xhtml\">\\n<head>\\n    <meta http-equiv=\"Content-Type\" content=\"text/html; charset=utf-8\" />\\n    <meta name=\"viewport\" content=\"width=device-width, initial-scale=1.0\">\\n    <link rel=\"shortcut icon\" href=\"//assets.kontan.co.id/favicon.ico\"/>\\n    <link rel=\"stylesheet\" href=\"https://asset.kontan.co.id/general/third-party/font-awesome-4.7.0/css/fo'"
      ]
     },
     "execution_count": 86,
     "metadata": {},
     "output_type": "execute_result"
    }
   ],
   "source": [
    "url_get.content[1:500]"
   ]
  },
  {
   "cell_type": "markdown",
   "metadata": {},
   "source": [
    "As we can see we get a very unstructured and complex html, which actually contains the codes needed to show the webpages on your web browser. But we as human still confused what and where we can use that piece of code, so here where we use the beautifulsoup. Beautiful soup class will result a beautifulsoup object. Beautiful Soup transforms a complex HTML document into a complex tree of Python objects. \n",
    "\n",
    "Let's create a BeautifulSoup object and feel free to explore the object here."
   ]
  },
  {
   "cell_type": "code",
   "execution_count": 87,
   "metadata": {
    "ExecuteTime": {
     "end_time": "2020-01-13T05:12:23.808122Z",
     "start_time": "2020-01-13T05:12:23.292610Z"
    }
   },
   "outputs": [
    {
     "name": "stdout",
     "output_type": "stream",
     "text": [
      "<class 'bs4.BeautifulSoup'>\n"
     ]
    }
   ],
   "source": [
    "from bs4 import BeautifulSoup \n",
    "\n",
    "soup = BeautifulSoup(url_get.content,\"html.parser\")\n",
    "print(type(soup))"
   ]
  },
  {
   "cell_type": "markdown",
   "metadata": {},
   "source": [
    "## Finding the right key to scrap the data & Extracting the right information"
   ]
  },
  {
   "cell_type": "markdown",
   "metadata": {},
   "source": [
    "To extract the desired information, we need to find the right key using the .find() method. We can explore the HTML structure using .prettify().\n",
    "\n",
    "*Here we want to extract the inflation data from the website and analyze the data using pandas.* We only extract the data that we need, in this case: date, inflation rate MoM, and inflation rate YoY."
   ]
  },
  {
   "cell_type": "code",
   "execution_count": 88,
   "metadata": {
    "ExecuteTime": {
     "end_time": "2020-01-13T05:12:23.878904Z",
     "start_time": "2020-01-13T05:12:23.854974Z"
    }
   },
   "outputs": [
    {
     "name": "stdout",
     "output_type": "stream",
     "text": [
      "div class=\"baris-scroll\">\n",
      " <div class=\"tabel-body\">\n",
      "  <div class=\"kol-konten3-1\">\n",
      "   31/12/2024\n",
      "  </div>\n",
      "  <div class=\"kol-konten3-2\">\n",
      "   <div class=\"w-30-px txtright center-max\">\n",
      "    0,44\n",
      "   </div>\n",
      "  </div>\n",
      "  <div class=\"kol-konten3-3\">\n",
      "   <div class=\"w-30-px txtright center-max\">\n",
      "    1,57\n",
      "   </div>\n",
      "  </div>\n",
      " </div>\n",
      " <div class=\"tabel-body\">\n",
      "  <div class=\"kol-konten3-1\">\n",
      "   30/11/2024\n",
      "  </div>\n",
      "  <div class=\"kol-konten3-2\">\n",
      "   <div class=\"w-30-px txtright center-max\">\n",
      "    0,30\n",
      "   </div>\n",
      "  </div\n"
     ]
    }
   ],
   "source": [
    "table = soup.find('div',attrs={'class':'baris-scroll'})\n",
    "print(table.prettify()[1:500])"
   ]
  },
  {
   "cell_type": "code",
   "execution_count": 89,
   "metadata": {},
   "outputs": [
    {
     "data": {
      "text/plain": [
       "[<div class=\"kol-konten3-1\">31/12/2024</div>,\n",
       " <div class=\"kol-konten3-1\">30/11/2024</div>,\n",
       " <div class=\"kol-konten3-1\">31/10/2024</div>,\n",
       " <div class=\"kol-konten3-1\">30/09/2024</div>,\n",
       " <div class=\"kol-konten3-1\">31/08/2024</div>]"
      ]
     },
     "execution_count": 89,
     "metadata": {},
     "output_type": "execute_result"
    }
   ],
   "source": [
    "table.find_all('div', attrs={'class','kol-konten3-1'})[:5]"
   ]
  },
  {
   "cell_type": "markdown",
   "metadata": {},
   "source": [
    "Next, we need to find the row length."
   ]
  },
  {
   "cell_type": "code",
   "execution_count": 90,
   "metadata": {},
   "outputs": [
    {
     "data": {
      "text/plain": [
       "50"
      ]
     },
     "execution_count": 90,
     "metadata": {},
     "output_type": "execute_result"
    }
   ],
   "source": [
    "row = table.find_all('div', attrs={'class':'kol-konten3-1'})\n",
    "row_length = len(row)\n",
    "row_length"
   ]
  },
  {
   "cell_type": "markdown",
   "metadata": {},
   "source": [
    "Do the scrapping process here. We need to extract the content from the 'div' element and do this step for all 3 columns: period, inflation mom, inflation yoy.\n",
    "\n",
    "> You can use a for loop to perform the scraping process in various ways depending on the HTML structure of the website you want to scrap and the information you want to retrieve."
   ]
  },
  {
   "cell_type": "code",
   "execution_count": 91,
   "metadata": {
    "ExecuteTime": {
     "end_time": "2020-01-13T05:12:24.008256Z",
     "start_time": "2020-01-13T05:12:23.980358Z"
    }
   },
   "outputs": [
    {
     "data": {
      "text/plain": [
       "[('31/12/2024', '0,44', '1,57'),\n",
       " ('30/11/2024', '0,30', '1,55'),\n",
       " ('31/10/2024', '0,08', '1,71'),\n",
       " ('30/09/2024', '0,12', '1,84'),\n",
       " ('31/08/2024', '0,03', '2,12'),\n",
       " ('31/07/2024', '0,18', '2,13'),\n",
       " ('30/06/2024', '0,08', '2,51'),\n",
       " ('31/05/2024', '0,03', '2,84'),\n",
       " ('30/04/2024', '0,25', '3,00'),\n",
       " ('31/03/2024', '0,52', '3,05'),\n",
       " ('29/02/2024', '0,37', '2,75'),\n",
       " ('31/01/2024', '0,04', '2,57'),\n",
       " ('31/12/2023', '0,41', '2,61'),\n",
       " ('30/11/2023', '0,38', '2,86'),\n",
       " ('31/10/2023', '0,17', '2,56'),\n",
       " ('30/09/2023', '0,19', '2,28'),\n",
       " ('31/08/2023', '0,02', '3,27'),\n",
       " ('31/07/2023', '0,21', '3,08'),\n",
       " ('30/06/2023', '0.14', '3.52'),\n",
       " ('31/05/2023', '0.09', '4.00'),\n",
       " ('30/04/2023', '0,33', '4,33'),\n",
       " ('31/03/2023', '0.18', '4.97'),\n",
       " ('28/02/2023', '0,16', '5,47'),\n",
       " ('31/01/2023', '0,34', '5,28'),\n",
       " ('31/12/2022', '0,66', '5,51'),\n",
       " ('30/11/2022', '0,09', '5,42'),\n",
       " ('31/10/2022', '0,11', '5,71'),\n",
       " ('30/09/2022', '1,17', '5,95'),\n",
       " ('31/08/2022', '0,21', '4,69'),\n",
       " ('31/07/2022', '0,64', '4,94'),\n",
       " ('30/06/2022', '0.61', '4.35'),\n",
       " ('31/05/2022', '0,40', '3,55'),\n",
       " ('30/04/2022', '0,95', '3,47'),\n",
       " ('31/03/2022', '0.66', '2.64'),\n",
       " ('28/02/2022', '0,54', '2,06'),\n",
       " ('31/01/2022', '0,56', '2,18'),\n",
       " ('31/12/2021', '0,57', '1,87'),\n",
       " ('30/11/2021', '0,37', '1,75'),\n",
       " ('31/10/2021', '0,12', '1,66'),\n",
       " ('30/09/2021', '0,04', '1,60'),\n",
       " ('31/08/2021', '0,03', '1,59'),\n",
       " ('31/07/2021', '0,08', '1,52'),\n",
       " ('30/06/2021', '0,16', '1,33'),\n",
       " ('31/05/2021', '0,32', '1,68'),\n",
       " ('30/04/2021', '0,13', '1,42'),\n",
       " ('31/03/2021', '0,08', '1,37'),\n",
       " ('28/02/2021', '0,10', '1.38'),\n",
       " ('31/01/2021', '0,26', '1.55'),\n",
       " ('31/12/2020', '0,45', '1.68'),\n",
       " ('30/11/2020', '0,28', '1.59')]"
      ]
     },
     "execution_count": 91,
     "metadata": {},
     "output_type": "execute_result"
    }
   ],
   "source": [
    "temp = [ ]  #init Initiating a tuple\n",
    "\n",
    "for i in range(0, row_length):\n",
    "\n",
    "    #get period\n",
    "    period = table.find_all('div', attrs={'class':'kol-konten3-1'})[i].text\n",
    "\n",
    "    #get inflation_mom\n",
    "    inflation_mom = table.find_all('div', attrs={'class':'kol-konten3-2'})[i].text\n",
    "    inflation_mom = inflation_mom.strip() #to remove excess white space\n",
    "\n",
    "    #get inflation_yoy\n",
    "    inflation_yoy = table.find_all('div', attrs={'class':'kol-konten3-3'})[i].text\n",
    "    inflation_yoy = inflation_yoy.strip() #to remove excess white space\n",
    "\n",
    "    temp.append((period,inflation_mom,inflation_yoy))\n",
    "    \n",
    "temp"
   ]
  },
  {
   "cell_type": "markdown",
   "metadata": {},
   "source": [
    "The result above shows the data from the current date to previous dates. Now, reverse the data from the initial date to current date"
   ]
  },
  {
   "cell_type": "code",
   "execution_count": 92,
   "metadata": {},
   "outputs": [
    {
     "data": {
      "text/plain": [
       "[('30/11/2020', '0,28', '1.59'),\n",
       " ('31/12/2020', '0,45', '1.68'),\n",
       " ('31/01/2021', '0,26', '1.55'),\n",
       " ('28/02/2021', '0,10', '1.38'),\n",
       " ('31/03/2021', '0,08', '1,37'),\n",
       " ('30/04/2021', '0,13', '1,42'),\n",
       " ('31/05/2021', '0,32', '1,68'),\n",
       " ('30/06/2021', '0,16', '1,33'),\n",
       " ('31/07/2021', '0,08', '1,52'),\n",
       " ('31/08/2021', '0,03', '1,59'),\n",
       " ('30/09/2021', '0,04', '1,60'),\n",
       " ('31/10/2021', '0,12', '1,66'),\n",
       " ('30/11/2021', '0,37', '1,75'),\n",
       " ('31/12/2021', '0,57', '1,87'),\n",
       " ('31/01/2022', '0,56', '2,18'),\n",
       " ('28/02/2022', '0,54', '2,06'),\n",
       " ('31/03/2022', '0.66', '2.64'),\n",
       " ('30/04/2022', '0,95', '3,47'),\n",
       " ('31/05/2022', '0,40', '3,55'),\n",
       " ('30/06/2022', '0.61', '4.35'),\n",
       " ('31/07/2022', '0,64', '4,94'),\n",
       " ('31/08/2022', '0,21', '4,69'),\n",
       " ('30/09/2022', '1,17', '5,95'),\n",
       " ('31/10/2022', '0,11', '5,71'),\n",
       " ('30/11/2022', '0,09', '5,42'),\n",
       " ('31/12/2022', '0,66', '5,51'),\n",
       " ('31/01/2023', '0,34', '5,28'),\n",
       " ('28/02/2023', '0,16', '5,47'),\n",
       " ('31/03/2023', '0.18', '4.97'),\n",
       " ('30/04/2023', '0,33', '4,33'),\n",
       " ('31/05/2023', '0.09', '4.00'),\n",
       " ('30/06/2023', '0.14', '3.52'),\n",
       " ('31/07/2023', '0,21', '3,08'),\n",
       " ('31/08/2023', '0,02', '3,27'),\n",
       " ('30/09/2023', '0,19', '2,28'),\n",
       " ('31/10/2023', '0,17', '2,56'),\n",
       " ('30/11/2023', '0,38', '2,86'),\n",
       " ('31/12/2023', '0,41', '2,61'),\n",
       " ('31/01/2024', '0,04', '2,57'),\n",
       " ('29/02/2024', '0,37', '2,75'),\n",
       " ('31/03/2024', '0,52', '3,05'),\n",
       " ('30/04/2024', '0,25', '3,00'),\n",
       " ('31/05/2024', '0,03', '2,84'),\n",
       " ('30/06/2024', '0,08', '2,51'),\n",
       " ('31/07/2024', '0,18', '2,13'),\n",
       " ('31/08/2024', '0,03', '2,12'),\n",
       " ('30/09/2024', '0,12', '1,84'),\n",
       " ('31/10/2024', '0,08', '1,71'),\n",
       " ('30/11/2024', '0,30', '1,55'),\n",
       " ('31/12/2024', '0,44', '1,57')]"
      ]
     },
     "execution_count": 92,
     "metadata": {},
     "output_type": "execute_result"
    }
   ],
   "source": [
    "temp = temp[::-1]\n",
    "temp"
   ]
  },
  {
   "cell_type": "markdown",
   "metadata": {},
   "source": [
    "Note: You can customize the code inside the loop according to your needs to extract the desired information from the website you scrap. Make sure to check and adjust the code well to suit the HTML structure and information you want to retrieve."
   ]
  },
  {
   "cell_type": "markdown",
   "metadata": {},
   "source": [
    "## Creating data frame & Data wrangling"
   ]
  },
  {
   "cell_type": "markdown",
   "metadata": {},
   "source": [
    "Once we have extracted the data, we can put it into a dataframe."
   ]
  },
  {
   "cell_type": "code",
   "execution_count": 93,
   "metadata": {
    "ExecuteTime": {
     "end_time": "2020-01-13T05:12:41.517372Z",
     "start_time": "2020-01-13T05:12:29.130015Z"
    }
   },
   "outputs": [
    {
     "data": {
      "text/html": [
       "<div>\n",
       "<style scoped>\n",
       "    .dataframe tbody tr th:only-of-type {\n",
       "        vertical-align: middle;\n",
       "    }\n",
       "\n",
       "    .dataframe tbody tr th {\n",
       "        vertical-align: top;\n",
       "    }\n",
       "\n",
       "    .dataframe thead th {\n",
       "        text-align: right;\n",
       "    }\n",
       "</style>\n",
       "<table border=\"1\" class=\"dataframe\">\n",
       "  <thead>\n",
       "    <tr style=\"text-align: right;\">\n",
       "      <th></th>\n",
       "      <th>period</th>\n",
       "      <th>inflation_mom</th>\n",
       "      <th>inflation_yoy</th>\n",
       "    </tr>\n",
       "  </thead>\n",
       "  <tbody>\n",
       "    <tr>\n",
       "      <th>0</th>\n",
       "      <td>30/11/2020</td>\n",
       "      <td>0,28</td>\n",
       "      <td>1.59</td>\n",
       "    </tr>\n",
       "    <tr>\n",
       "      <th>1</th>\n",
       "      <td>31/12/2020</td>\n",
       "      <td>0,45</td>\n",
       "      <td>1.68</td>\n",
       "    </tr>\n",
       "    <tr>\n",
       "      <th>2</th>\n",
       "      <td>31/01/2021</td>\n",
       "      <td>0,26</td>\n",
       "      <td>1.55</td>\n",
       "    </tr>\n",
       "    <tr>\n",
       "      <th>3</th>\n",
       "      <td>28/02/2021</td>\n",
       "      <td>0,10</td>\n",
       "      <td>1.38</td>\n",
       "    </tr>\n",
       "    <tr>\n",
       "      <th>4</th>\n",
       "      <td>31/03/2021</td>\n",
       "      <td>0,08</td>\n",
       "      <td>1,37</td>\n",
       "    </tr>\n",
       "  </tbody>\n",
       "</table>\n",
       "</div>"
      ],
      "text/plain": [
       "       period inflation_mom inflation_yoy\n",
       "0  30/11/2020          0,28          1.59\n",
       "1  31/12/2020          0,45          1.68\n",
       "2  31/01/2021          0,26          1.55\n",
       "3  28/02/2021          0,10          1.38\n",
       "4  31/03/2021          0,08          1,37"
      ]
     },
     "execution_count": 93,
     "metadata": {},
     "output_type": "execute_result"
    }
   ],
   "source": [
    "import pandas as pd\n",
    "\n",
    "df = pd.DataFrame(temp, columns= ('period','inflation_mom','inflation_yoy'))\n",
    "df.head()"
   ]
  },
  {
   "cell_type": "markdown",
   "metadata": {},
   "source": [
    "### Data Cleansing\n",
    "\n",
    "changing the type from object to datetime & float"
   ]
  },
  {
   "cell_type": "code",
   "execution_count": 94,
   "metadata": {},
   "outputs": [
    {
     "data": {
      "text/plain": [
       "period           object\n",
       "inflation_mom    object\n",
       "inflation_yoy    object\n",
       "dtype: object"
      ]
     },
     "execution_count": 94,
     "metadata": {},
     "output_type": "execute_result"
    }
   ],
   "source": [
    "df.dtypes"
   ]
  },
  {
   "cell_type": "code",
   "execution_count": 95,
   "metadata": {},
   "outputs": [],
   "source": [
    "df['inflation_mom'] = df['inflation_mom'].astype('str')\n",
    "df['inflation_yoy'] = df['inflation_yoy'].astype('str')\n",
    "df['period'] = df['period'].astype('datetime64[ns]')"
   ]
  },
  {
   "cell_type": "code",
   "execution_count": 96,
   "metadata": {},
   "outputs": [],
   "source": [
    "df['inflation_mom'] = df['inflation_mom'].str.replace(\",\",\".\")\n",
    "df['inflation_yoy'] = df['inflation_yoy'].str.replace(\",\",\".\")"
   ]
  },
  {
   "cell_type": "code",
   "execution_count": 97,
   "metadata": {},
   "outputs": [],
   "source": [
    "df['inflation_mom'] = df['inflation_mom'].astype('float64')\n",
    "df['inflation_yoy'] = df['inflation_yoy'].astype('float64')"
   ]
  },
  {
   "cell_type": "code",
   "execution_count": 98,
   "metadata": {},
   "outputs": [
    {
     "name": "stdout",
     "output_type": "stream",
     "text": [
      "<class 'pandas.core.frame.DataFrame'>\n",
      "RangeIndex: 50 entries, 0 to 49\n",
      "Data columns (total 3 columns):\n",
      " #   Column         Non-Null Count  Dtype         \n",
      "---  ------         --------------  -----         \n",
      " 0   period         50 non-null     datetime64[ns]\n",
      " 1   inflation_mom  50 non-null     float64       \n",
      " 2   inflation_yoy  50 non-null     float64       \n",
      "dtypes: datetime64[ns](1), float64(2)\n",
      "memory usage: 1.3 KB\n"
     ]
    }
   ],
   "source": [
    "df.info()"
   ]
  },
  {
   "cell_type": "code",
   "execution_count": 99,
   "metadata": {},
   "outputs": [
    {
     "data": {
      "text/html": [
       "<div>\n",
       "<style scoped>\n",
       "    .dataframe tbody tr th:only-of-type {\n",
       "        vertical-align: middle;\n",
       "    }\n",
       "\n",
       "    .dataframe tbody tr th {\n",
       "        vertical-align: top;\n",
       "    }\n",
       "\n",
       "    .dataframe thead th {\n",
       "        text-align: right;\n",
       "    }\n",
       "</style>\n",
       "<table border=\"1\" class=\"dataframe\">\n",
       "  <thead>\n",
       "    <tr style=\"text-align: right;\">\n",
       "      <th></th>\n",
       "      <th>period</th>\n",
       "      <th>inflation_mom</th>\n",
       "      <th>inflation_yoy</th>\n",
       "    </tr>\n",
       "  </thead>\n",
       "  <tbody>\n",
       "    <tr>\n",
       "      <th>0</th>\n",
       "      <td>2020-11-30</td>\n",
       "      <td>0.28</td>\n",
       "      <td>1.59</td>\n",
       "    </tr>\n",
       "    <tr>\n",
       "      <th>1</th>\n",
       "      <td>2020-12-31</td>\n",
       "      <td>0.45</td>\n",
       "      <td>1.68</td>\n",
       "    </tr>\n",
       "    <tr>\n",
       "      <th>2</th>\n",
       "      <td>2021-01-31</td>\n",
       "      <td>0.26</td>\n",
       "      <td>1.55</td>\n",
       "    </tr>\n",
       "    <tr>\n",
       "      <th>3</th>\n",
       "      <td>2021-02-28</td>\n",
       "      <td>0.10</td>\n",
       "      <td>1.38</td>\n",
       "    </tr>\n",
       "    <tr>\n",
       "      <th>4</th>\n",
       "      <td>2021-03-31</td>\n",
       "      <td>0.08</td>\n",
       "      <td>1.37</td>\n",
       "    </tr>\n",
       "  </tbody>\n",
       "</table>\n",
       "</div>"
      ],
      "text/plain": [
       "      period  inflation_mom  inflation_yoy\n",
       "0 2020-11-30           0.28           1.59\n",
       "1 2020-12-31           0.45           1.68\n",
       "2 2021-01-31           0.26           1.55\n",
       "3 2021-02-28           0.10           1.38\n",
       "4 2021-03-31           0.08           1.37"
      ]
     },
     "execution_count": 99,
     "metadata": {},
     "output_type": "execute_result"
    }
   ],
   "source": [
    "df.head()"
   ]
  },
  {
   "cell_type": "markdown",
   "metadata": {},
   "source": [
    "### Data Visualization\n",
    "\n",
    "to visualize it nicely and make it easy to read, set the period column as the index. then, choose which kind of plot that can represent the data nicely. in this case, line chart is easier to read."
   ]
  },
  {
   "cell_type": "code",
   "execution_count": 100,
   "metadata": {},
   "outputs": [
    {
     "data": {
      "text/html": [
       "<div>\n",
       "<style scoped>\n",
       "    .dataframe tbody tr th:only-of-type {\n",
       "        vertical-align: middle;\n",
       "    }\n",
       "\n",
       "    .dataframe tbody tr th {\n",
       "        vertical-align: top;\n",
       "    }\n",
       "\n",
       "    .dataframe thead th {\n",
       "        text-align: right;\n",
       "    }\n",
       "</style>\n",
       "<table border=\"1\" class=\"dataframe\">\n",
       "  <thead>\n",
       "    <tr style=\"text-align: right;\">\n",
       "      <th></th>\n",
       "      <th>inflation_mom</th>\n",
       "      <th>inflation_yoy</th>\n",
       "    </tr>\n",
       "    <tr>\n",
       "      <th>period</th>\n",
       "      <th></th>\n",
       "      <th></th>\n",
       "    </tr>\n",
       "  </thead>\n",
       "  <tbody>\n",
       "    <tr>\n",
       "      <th>2020-11-30</th>\n",
       "      <td>0.28</td>\n",
       "      <td>1.59</td>\n",
       "    </tr>\n",
       "    <tr>\n",
       "      <th>2020-12-31</th>\n",
       "      <td>0.45</td>\n",
       "      <td>1.68</td>\n",
       "    </tr>\n",
       "    <tr>\n",
       "      <th>2021-01-31</th>\n",
       "      <td>0.26</td>\n",
       "      <td>1.55</td>\n",
       "    </tr>\n",
       "    <tr>\n",
       "      <th>2021-02-28</th>\n",
       "      <td>0.10</td>\n",
       "      <td>1.38</td>\n",
       "    </tr>\n",
       "    <tr>\n",
       "      <th>2021-03-31</th>\n",
       "      <td>0.08</td>\n",
       "      <td>1.37</td>\n",
       "    </tr>\n",
       "  </tbody>\n",
       "</table>\n",
       "</div>"
      ],
      "text/plain": [
       "            inflation_mom  inflation_yoy\n",
       "period                                  \n",
       "2020-11-30           0.28           1.59\n",
       "2020-12-31           0.45           1.68\n",
       "2021-01-31           0.26           1.55\n",
       "2021-02-28           0.10           1.38\n",
       "2021-03-31           0.08           1.37"
      ]
     },
     "execution_count": 100,
     "metadata": {},
     "output_type": "execute_result"
    }
   ],
   "source": [
    "df = df.set_index('period')\n",
    "df.head()"
   ]
  },
  {
   "cell_type": "code",
   "execution_count": 101,
   "metadata": {},
   "outputs": [
    {
     "data": {
      "text/plain": [
       "<Axes: xlabel='period'>"
      ]
     },
     "execution_count": 101,
     "metadata": {},
     "output_type": "execute_result"
    },
    {
     "data": {
      "image/png": "[encoded data removed]",
      "text/plain": [
       "<Figure size 640x480 with 1 Axes>"
      ]
     },
     "metadata": {},
     "output_type": "display_data"
    }
   ],
   "source": [
    "df.plot()"
   ]
  },
  {
   "cell_type": "markdown",
   "metadata": {},
   "source": [
    "Inflation in Indonesia drastically jumped to almost 6% by the end of 2022. The inflation show a modest declined between Q4 of 2022 and Q1 of 2023, and continue to decline towards the end of year of 2024 with fluctuations. To conclude, the inflation rate during 2022-2023 is marked as the biggest increased inflation year on year. "
   ]
  },
  {
   "cell_type": "markdown",
   "metadata": {},
   "source": [
    "### Implementing your webscrapping to the flask dashboard\n",
    "\n",
    "- Copy paste all of your web scrapping process to the desired position on the `app.py`\n",
    "- Change the title of the dashboard in `index.html`"
   ]
  },
  {
   "cell_type": "markdown",
   "metadata": {},
   "source": [
    "## Finishing This Notebook with Your Analysis and Conclusion\n",
    "\n",
    "First you can do start with making the data visualization."
   ]
  },
  {
   "cell_type": "code",
   "execution_count": null,
   "metadata": {
    "ExecuteTime": {
     "end_time": "2020-01-13T05:20:56.208237Z",
     "start_time": "2020-01-13T05:20:56.076043Z"
    }
   },
   "outputs": [],
   "source": []
  },
  {
   "cell_type": "markdown",
   "metadata": {},
   "source": [
    "## Analysis\n",
    "\n",
    "(Put your analysis and conclusion here.)"
   ]
  },
  {
   "cell_type": "markdown",
   "metadata": {},
   "source": [
    "### Extra Challange\n",
    "\n",
    "This will be not included to the scoring. \n",
    "\n",
    "- You can create additional visualization/analysis from the data.\n",
    "- Implement it to the dashboard with at `app.py` dan `index.html`."
   ]
  }
 ],
 "metadata": {
  "kernelspec": {
   "display_name": "apollo_da",
   "language": "python",
   "name": "python3"
  },
  "language_info": {
   "codemirror_mode": {
    "name": "ipython",
    "version": 3
   },
   "file_extension": ".py",
   "mimetype": "text/x-python",
   "name": "python",
   "nbconvert_exporter": "python",
   "pygments_lexer": "ipython3",
   "version": "3.12.8"
  }
 },
 "nbformat": 4,
 "nbformat_minor": 2
}
