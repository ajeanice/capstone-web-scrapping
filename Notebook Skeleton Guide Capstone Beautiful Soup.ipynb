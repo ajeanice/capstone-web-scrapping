{
 "cells": [
  {
   "cell_type": "markdown",
   "metadata": {},
   "source": [
    "# Capstone Webscraping using BeautifulSoup\n",
    "\n",
    "This notebook contains guidances & tasks on the data processing for the application\n",
    "\n",
    "## Background\n",
    "\n",
    "Analyzing the exchange rate history of US Dollar (USD) to Indonesian Rupiah (IDR) for the past six months, between August 2024 to January 2025.\n",
    "\n",
    "## Requesting the Data and Creating a BeautifulSoup\n",
    "\n",
    "Let's start by requesting the webpage using the `get` method from the `requests` library."
   ]
  },
  {
   "cell_type": "code",
   "execution_count": 263,
   "metadata": {
    "ExecuteTime": {
     "end_time": "2020-01-13T05:12:23.275508Z",
     "start_time": "2020-01-13T05:12:20.009898Z"
    }
   },
   "outputs": [],
   "source": [
    "import requests\n",
    "\n",
    "url_get = requests.get('https://www.exchange-rates.org/exchange-rate-history/usd-idr')"
   ]
  },
  {
   "cell_type": "markdown",
   "metadata": {},
   "source": [
    "To visualize what exactly you get from the `request.get`, we can use `.content` so see what we exactly get (HTML content), in here i slice it so it won't make our screen full of the html we get from the page. You can delete the slicing if you want to see what we fully get."
   ]
  },
  {
   "cell_type": "code",
   "execution_count": 264,
   "metadata": {
    "ExecuteTime": {
     "end_time": "2020-01-13T05:12:23.290648Z",
     "start_time": "2020-01-13T05:12:23.277650Z"
    }
   },
   "outputs": [
    {
     "data": {
      "text/plain": [
       "b'!DOCTYPE html>\\r\\n<!--[if lt IE 9]>\\r\\n<html class=\"no-js ie8 oldie\" lang=\"en\" xml:lang=\\'en\\'>\\r\\n<![endif]-->\\r\\n<!--[if gt IE 8]><!--><html class=\"no-js\" lang=\"en\" xml:lang=\\'en\\'><!--<![endif]-->\\r\\n<head>\\r\\n<title>US Dollar to Indonesian Rupiah History - USD to IDR Historical Rates</title>\\r\\n<meta http-equiv=\"X-UA-Compatible\" content=\"IE=edge\">\\r\\n<meta name=\"viewport\" content=\"width=device-width, initial-scale=1, maximum-scale=5\">\\r\\n<meta charset=\"utf-8\" /><meta http-equiv=\"Content-Type\" content=\"text/html;'"
      ]
     },
     "execution_count": 264,
     "metadata": {},
     "output_type": "execute_result"
    }
   ],
   "source": [
    "url_get.content[1:500]"
   ]
  },
  {
   "cell_type": "markdown",
   "metadata": {},
   "source": [
    "As we can see we get a very unstructured and complex html, which actually contains the codes needed to show the webpages on your web browser. But we as human still confused what and where we can use that piece of code, so here where we use the beautifulsoup. Beautiful soup class will result a beautifulsoup object. Beautiful Soup transforms a complex HTML document into a complex tree of Python objects. \n",
    "\n",
    "Let's create a BeautifulSoup object and feel free to explore the object here."
   ]
  },
  {
   "cell_type": "code",
   "execution_count": 265,
   "metadata": {
    "ExecuteTime": {
     "end_time": "2020-01-13T05:12:23.808122Z",
     "start_time": "2020-01-13T05:12:23.292610Z"
    }
   },
   "outputs": [],
   "source": [
    "from bs4 import BeautifulSoup \n",
    "\n",
    "soup = BeautifulSoup(url_get.content,\"html.parser\")"
   ]
  },
  {
   "cell_type": "markdown",
   "metadata": {},
   "source": [
    "## Finding the right key to scrap the data & Extracting the right information"
   ]
  },
  {
   "cell_type": "markdown",
   "metadata": {},
   "source": [
    "To extract the desired information, we need to find the right key using the .find() method. We can explore the HTML structure using .prettify().\n",
    "\n",
    "*(please change this markdown with your explanation)*"
   ]
  },
  {
   "cell_type": "code",
   "execution_count": 266,
   "metadata": {
    "ExecuteTime": {
     "end_time": "2020-01-13T05:12:23.878904Z",
     "start_time": "2020-01-13T05:12:23.854974Z"
    }
   },
   "outputs": [
    {
     "name": "stdout",
     "output_type": "stream",
     "text": [
      "table border=\"0\" cellpadding=\"0\" cellspacing=\"0\" class=\"history-rates-data\">\n",
      " <thead>\n",
      "  <tr>\n",
      "   <th class=\"ltr-bidi-fix\">\n",
      "    Date\n",
      "   </th>\n",
      "   <th class=\"ltr-bidi-fix\">\n",
      "    US Dollar to Indonesian Rupiah\n",
      "   </th>\n",
      "  </tr>\n",
      " </thead>\n",
      " <tbody>\n",
      "  <tr>\n",
      "   <td>\n",
      "    <a class=\"w\" href=\"/exchange-rate-history/usd-idr-2025-01-09\">\n",
      "     <span class=\"nowrap\">\n",
      "      2025-1-9\n",
      "     </span>\n",
      "    </a>\n",
      "    <a class=\"n\" href=\"/exchange-rate-history/usd-idr-2025-01-09\">\n",
      "     <span class=\"nowrap\">\n",
      "      2025-1-9\n",
      "     </span>\n",
      "    </a>\n",
      "   </td>\n",
      "   <td>\n",
      "    <span class=\"w\">\n",
      "     <span class=\"nowrap\">\n",
      "      1 USD =\n",
      "     </span>\n",
      "     <span class=\"nowrap\">\n",
      "      16,254 IDR\n",
      "     </span>\n",
      "    </span>\n",
      "    <span class=\"n\">\n",
      "     <span class=\"nowrap\">\n",
      "      1 USD =\n",
      "     </span>\n",
      "     <span class=\"nowrap\">\n",
      "      16,254 IDR\n",
      "     </span>\n",
      "    </span>\n",
      "   </td>\n",
      "  </tr>\n",
      "  <tr class=\"odd\">\n",
      "   <td>\n",
      "    <a class=\"w\" href=\"/exchange-rate-history/usd-idr-2025-01-08\">\n",
      "     <span class=\"nowrap\">\n",
      "      2025-1-8\n",
      "     </span>\n",
      "    </a>\n",
      "    <a class=\"n\" href=\"/exchange-rate-history/usd-idr-2025-01-08\">\n",
      "     <span class=\"nowrap\">\n",
      "      2025-1-8\n",
      "     </span>\n",
      "    </a>\n",
      "   </td>\n",
      "   <td>\n",
      "    <span class=\"w\">\n",
      "     <span class=\"nowrap\">\n",
      "      1 USD =\n",
      "     </span>\n",
      "     <span class=\"nowrap\">\n",
      "      16,246 IDR\n",
      "     </span>\n",
      "    </span>\n",
      "    <span class=\"n\">\n",
      "     <span class=\"nowrap\">\n",
      "      1 USD =\n",
      "     </span>\n",
      "     <span class=\"nowrap\">\n",
      "      16,246 IDR\n",
      "     </span>\n",
      "    </span>\n",
      "   </td>\n",
      "  </tr>\n",
      "  <tr>\n",
      "   <td>\n",
      "    <a class=\"w\" href=\"/exchange-rate-history/usd-idr-2025-01-07\">\n",
      "     <span class=\"nowrap\">\n",
      "      2025-1-7\n",
      "     </span>\n",
      "    </a>\n",
      "    <a class=\"n\" href=\"/exchange-rate-history/usd-idr-2025-01-07\">\n",
      "     <span class=\"nowrap\">\n",
      "      2025-1-7\n",
      "     </span>\n",
      "    </a>\n",
      "   </td>\n",
      "   <td>\n",
      "    <span class=\"w\">\n",
      "     <span class=\"nowrap\">\n",
      "      1 USD =\n",
      "     </span>\n",
      "     <span class=\"nowrap\">\n",
      "      16,224 IDR\n",
      "     </span>\n",
      "    </span>\n",
      "    <span class=\"n\">\n",
      "     <span class=\"nowrap\">\n",
      "      1 USD =\n",
      "     </span>\n",
      "     <span class=\"nowrap\">\n",
      "      16,\n"
     ]
    }
   ],
   "source": [
    "table = soup.find('table', attrs={'class':'history-rates-data'})\n",
    "print(table.prettify()[1:2000])"
   ]
  },
  {
   "cell_type": "markdown",
   "metadata": {},
   "source": [
    "After we extract the information from the website, we can use find_all function to find out the first tag with specified name. For example we use find_all function to find the Date:"
   ]
  },
  {
   "cell_type": "code",
   "execution_count": 267,
   "metadata": {},
   "outputs": [
    {
     "data": {
      "text/plain": [
       "[<a class=\"w\" href=\"/exchange-rate-history/usd-idr-2025-01-09\"><span class=\"nowrap\">2025-1-9</span></a>,\n",
       " <a class=\"w\" href=\"/exchange-rate-history/usd-idr-2025-01-08\"><span class=\"nowrap\">2025-1-8</span></a>,\n",
       " <a class=\"w\" href=\"/exchange-rate-history/usd-idr-2025-01-07\"><span class=\"nowrap\">2025-1-7</span></a>,\n",
       " <a class=\"w\" href=\"/exchange-rate-history/usd-idr-2025-01-06\"><span class=\"nowrap\">2025-1-6</span></a>,\n",
       " <a class=\"w\" href=\"/exchange-rate-history/usd-idr-2025-01-03\"><span class=\"nowrap\">2025-1-3</span></a>]"
      ]
     },
     "execution_count": 267,
     "metadata": {},
     "output_type": "execute_result"
    }
   ],
   "source": [
    "table.find_all('a',attrs={'class':'w'})[:5]"
   ]
  },
  {
   "cell_type": "markdown",
   "metadata": {},
   "source": [
    "After that, we can add .text to transform the above information into a text format from the data:"
   ]
  },
  {
   "cell_type": "code",
   "execution_count": 268,
   "metadata": {},
   "outputs": [
    {
     "data": {
      "text/plain": [
       "'2025-1-9'"
      ]
     },
     "execution_count": 268,
     "metadata": {},
     "output_type": "execute_result"
    }
   ],
   "source": [
    "table.find_all('a',attrs={'class':'w'})[0].text"
   ]
  },
  {
   "cell_type": "markdown",
   "metadata": {},
   "source": [
    "Next, we need to find the row length."
   ]
  },
  {
   "cell_type": "code",
   "execution_count": 269,
   "metadata": {},
   "outputs": [
    {
     "data": {
      "text/plain": [
       "129"
      ]
     },
     "execution_count": 269,
     "metadata": {},
     "output_type": "execute_result"
    }
   ],
   "source": [
    "row = table.find_all('a',attrs={'class':'w'})\n",
    "row_length = len(row)\n",
    "row_length"
   ]
  },
  {
   "cell_type": "markdown",
   "metadata": {},
   "source": [
    "Here are the steps that what we do to scrap the information:\n",
    "- establish a placholder to receive the information that we scrap\n",
    "- named our placeholder as temp and it's a list\n",
    "- make a loop from one until the last row of the table\n",
    "- find a cell of the columns which contain the Date and Exchange rate\n",
    "- append it to our tuple that we prepared before\n",
    "- every one iteration we will scrap one line of the table\n",
    "\n",
    "> You can use a for loop to perform the scraping process in various ways depending on the HTML structure of the website you want to scrap and the information you want to retrieve."
   ]
  },
  {
   "cell_type": "code",
   "execution_count": 270,
   "metadata": {},
   "outputs": [
    {
     "name": "stdout",
     "output_type": "stream",
     "text": [
      "1 USD = 16,254 IDR\n",
      "1 USD = 16,246 IDR\n",
      "1 USD = 16,224 IDR\n",
      "1 USD = 16,194 IDR\n",
      "1 USD = 16,200 IDR\n",
      "1 USD = 16,237 IDR\n",
      "1 USD = 16,248 IDR\n",
      "1 USD = 16,267 IDR\n",
      "1 USD = 16,143 IDR\n",
      "1 USD = 16,185 IDR\n",
      "1 USD = 16,195 IDR\n",
      "1 USD = 16,181 IDR\n",
      "1 USD = 16,213 IDR\n",
      "1 USD = 16,231 IDR\n",
      "1 USD = 16,171 IDR\n",
      "1 USD = 16,338 IDR\n",
      "1 USD = 16,196 IDR\n",
      "1 USD = 16,051 IDR\n",
      "1 USD = 16,016 IDR\n",
      "1 USD = 16,032 IDR\n",
      "1 USD = 15,974 IDR\n",
      "1 USD = 15,971 IDR\n",
      "1 USD = 15,914 IDR\n",
      "1 USD = 15,865 IDR\n",
      "1 USD = 15,865 IDR\n",
      "1 USD = 15,866 IDR\n",
      "1 USD = 15,917 IDR\n",
      "1 USD = 15,980 IDR\n",
      "1 USD = 15,935 IDR\n",
      "1 USD = 15,836 IDR\n",
      "1 USD = 15,885 IDR\n",
      "1 USD = 15,873 IDR\n",
      "1 USD = 15,943 IDR\n",
      "1 USD = 15,879 IDR\n",
      "1 USD = 15,944 IDR\n",
      "1 USD = 15,898 IDR\n",
      "1 USD = 15,938 IDR\n",
      "1 USD = 15,854 IDR\n",
      "1 USD = 15,842 IDR\n",
      "1 USD = 15,898 IDR\n",
      "1 USD = 15,984 IDR\n",
      "1 USD = 15,864 IDR\n",
      "1 USD = 15,826 IDR\n",
      "1 USD = 15,751 IDR\n",
      "1 USD = 15,655 IDR\n",
      "1 USD = 15,565 IDR\n",
      "1 USD = 15,830 IDR\n",
      "1 USD = 15,718 IDR\n",
      "1 USD = 15,794 IDR\n",
      "1 USD = 15,849 IDR\n",
      "1 USD = 15,723 IDR\n",
      "1 USD = 15,692 IDR\n",
      "1 USD = 15,751 IDR\n",
      "1 USD = 15,753 IDR\n",
      "1 USD = 15,695 IDR\n",
      "1 USD = 15,632 IDR\n",
      "1 USD = 15,642 IDR\n",
      "1 USD = 15,591 IDR\n",
      "1 USD = 15,564 IDR\n",
      "1 USD = 15,474 IDR\n",
      "1 USD = 15,525 IDR\n",
      "1 USD = 15,590 IDR\n",
      "1 USD = 15,586 IDR\n",
      "1 USD = 15,578 IDR\n",
      "1 USD = 15,569 IDR\n",
      "1 USD = 15,668 IDR\n",
      "1 USD = 15,709 IDR\n",
      "1 USD = 15,690 IDR\n",
      "1 USD = 15,736 IDR\n",
      "1 USD = 15,670 IDR\n",
      "1 USD = 15,487 IDR\n",
      "1 USD = 15,304 IDR\n",
      "1 USD = 15,281 IDR\n",
      "1 USD = 15,205 IDR\n",
      "1 USD = 15,125 IDR\n",
      "1 USD = 15,134 IDR\n",
      "1 USD = 15,220 IDR\n",
      "1 USD = 15,140 IDR\n",
      "1 USD = 15,172 IDR\n",
      "1 USD = 15,161 IDR\n",
      "1 USD = 15,202 IDR\n",
      "1 USD = 15,321 IDR\n",
      "1 USD = 15,371 IDR\n",
      "1 USD = 15,376 IDR\n",
      "1 USD = 15,412 IDR\n",
      "1 USD = 15,435 IDR\n",
      "1 USD = 15,445 IDR\n",
      "1 USD = 15,494 IDR\n",
      "1 USD = 15,482 IDR\n",
      "1 USD = 15,458 IDR\n",
      "1 USD = 15,424 IDR\n",
      "1 USD = 15,458 IDR\n",
      "1 USD = 15,557 IDR\n",
      "1 USD = 15,554 IDR\n",
      "1 USD = 15,532 IDR\n",
      "1 USD = 15,466 IDR\n",
      "1 USD = 15,446 IDR\n",
      "1 USD = 15,481 IDR\n",
      "1 USD = 15,483 IDR\n",
      "1 USD = 15,401 IDR\n",
      "1 USD = 15,751 IDR\n",
      "1 USD = 15,508 IDR\n",
      "1 USD = 15,449 IDR\n",
      "1 USD = 15,530 IDR\n",
      "1 USD = 15,698 IDR\n",
      "1 USD = 15,773 IDR\n",
      "1 USD = 15,634 IDR\n",
      "1 USD = 15,756 IDR\n",
      "1 USD = 15,948 IDR\n",
      "1 USD = 15,950 IDR\n",
      "1 USD = 15,985 IDR\n",
      "1 USD = 16,030 IDR\n",
      "1 USD = 16,175 IDR\n",
      "1 USD = 16,222 IDR\n",
      "1 USD = 16,176 IDR\n",
      "1 USD = 16,275 IDR\n",
      "1 USD = 16,251 IDR\n",
      "1 USD = 16,326 IDR\n",
      "1 USD = 16,297 IDR\n",
      "1 USD = 16,304 IDR\n",
      "1 USD = 16,332 IDR\n",
      "1 USD = 16,245 IDR\n",
      "1 USD = 16,219 IDR\n",
      "1 USD = 16,218 IDR\n",
      "1 USD = 16,213 IDR\n",
      "1 USD = 16,181 IDR\n",
      "1 USD = 16,151 IDR\n",
      "1 USD = 16,166 IDR\n",
      "1 USD = 16,192 IDR\n"
     ]
    },
    {
     "data": {
      "text/plain": [
       "[('2025-1-9', '1 USD = 16,254 IDR'),\n",
       " ('2025-1-8', '1 USD = 16,246 IDR'),\n",
       " ('2025-1-7', '1 USD = 16,224 IDR'),\n",
       " ('2025-1-6', '1 USD = 16,194 IDR'),\n",
       " ('2025-1-3', '1 USD = 16,200 IDR'),\n",
       " ('2025-1-2', '1 USD = 16,237 IDR'),\n",
       " ('2025-1-1', '1 USD = 16,248 IDR'),\n",
       " ('2024-12-31', '1 USD = 16,267 IDR'),\n",
       " ('2024-12-30', '1 USD = 16,143 IDR'),\n",
       " ('2024-12-27', '1 USD = 16,185 IDR'),\n",
       " ('2024-12-26', '1 USD = 16,195 IDR'),\n",
       " ('2024-12-25', '1 USD = 16,181 IDR'),\n",
       " ('2024-12-24', '1 USD = 16,213 IDR'),\n",
       " ('2024-12-23', '1 USD = 16,231 IDR'),\n",
       " ('2024-12-20', '1 USD = 16,171 IDR'),\n",
       " ('2024-12-19', '1 USD = 16,338 IDR'),\n",
       " ('2024-12-18', '1 USD = 16,196 IDR'),\n",
       " ('2024-12-17', '1 USD = 16,051 IDR'),\n",
       " ('2024-12-16', '1 USD = 16,016 IDR'),\n",
       " ('2024-12-13', '1 USD = 16,032 IDR'),\n",
       " ('2024-12-12', '1 USD = 15,974 IDR'),\n",
       " ('2024-12-11', '1 USD = 15,971 IDR'),\n",
       " ('2024-12-10', '1 USD = 15,914 IDR'),\n",
       " ('2024-12-9', '1 USD = 15,865 IDR'),\n",
       " ('2024-12-6', '1 USD = 15,865 IDR'),\n",
       " ('2024-12-5', '1 USD = 15,866 IDR'),\n",
       " ('2024-12-4', '1 USD = 15,917 IDR'),\n",
       " ('2024-12-3', '1 USD = 15,980 IDR'),\n",
       " ('2024-12-2', '1 USD = 15,935 IDR'),\n",
       " ('2024-11-29', '1 USD = 15,836 IDR'),\n",
       " ('2024-11-28', '1 USD = 15,885 IDR'),\n",
       " ('2024-11-27', '1 USD = 15,873 IDR'),\n",
       " ('2024-11-26', '1 USD = 15,943 IDR'),\n",
       " ('2024-11-25', '1 USD = 15,879 IDR'),\n",
       " ('2024-11-22', '1 USD = 15,944 IDR'),\n",
       " ('2024-11-21', '1 USD = 15,898 IDR'),\n",
       " ('2024-11-20', '1 USD = 15,938 IDR'),\n",
       " ('2024-11-19', '1 USD = 15,854 IDR'),\n",
       " ('2024-11-18', '1 USD = 15,842 IDR'),\n",
       " ('2024-11-15', '1 USD = 15,898 IDR'),\n",
       " ('2024-11-14', '1 USD = 15,984 IDR'),\n",
       " ('2024-11-13', '1 USD = 15,864 IDR'),\n",
       " ('2024-11-12', '1 USD = 15,826 IDR'),\n",
       " ('2024-11-11', '1 USD = 15,751 IDR'),\n",
       " ('2024-11-8', '1 USD = 15,655 IDR'),\n",
       " ('2024-11-7', '1 USD = 15,565 IDR'),\n",
       " ('2024-11-6', '1 USD = 15,830 IDR'),\n",
       " ('2024-11-5', '1 USD = 15,718 IDR'),\n",
       " ('2024-11-4', '1 USD = 15,794 IDR'),\n",
       " ('2024-11-1', '1 USD = 15,849 IDR'),\n",
       " ('2024-10-31', '1 USD = 15,723 IDR'),\n",
       " ('2024-10-30', '1 USD = 15,692 IDR'),\n",
       " ('2024-10-29', '1 USD = 15,751 IDR'),\n",
       " ('2024-10-28', '1 USD = 15,753 IDR'),\n",
       " ('2024-10-25', '1 USD = 15,695 IDR'),\n",
       " ('2024-10-24', '1 USD = 15,632 IDR'),\n",
       " ('2024-10-23', '1 USD = 15,642 IDR'),\n",
       " ('2024-10-22', '1 USD = 15,591 IDR'),\n",
       " ('2024-10-21', '1 USD = 15,564 IDR'),\n",
       " ('2024-10-18', '1 USD = 15,474 IDR'),\n",
       " ('2024-10-17', '1 USD = 15,525 IDR'),\n",
       " ('2024-10-16', '1 USD = 15,590 IDR'),\n",
       " ('2024-10-15', '1 USD = 15,586 IDR'),\n",
       " ('2024-10-14', '1 USD = 15,578 IDR'),\n",
       " ('2024-10-11', '1 USD = 15,569 IDR'),\n",
       " ('2024-10-10', '1 USD = 15,668 IDR'),\n",
       " ('2024-10-9', '1 USD = 15,709 IDR'),\n",
       " ('2024-10-8', '1 USD = 15,690 IDR'),\n",
       " ('2024-10-7', '1 USD = 15,736 IDR'),\n",
       " ('2024-10-4', '1 USD = 15,670 IDR'),\n",
       " ('2024-10-3', '1 USD = 15,487 IDR'),\n",
       " ('2024-10-2', '1 USD = 15,304 IDR'),\n",
       " ('2024-10-1', '1 USD = 15,281 IDR'),\n",
       " ('2024-9-30', '1 USD = 15,205 IDR'),\n",
       " ('2024-9-27', '1 USD = 15,125 IDR'),\n",
       " ('2024-9-26', '1 USD = 15,134 IDR'),\n",
       " ('2024-9-25', '1 USD = 15,220 IDR'),\n",
       " ('2024-9-24', '1 USD = 15,140 IDR'),\n",
       " ('2024-9-23', '1 USD = 15,172 IDR'),\n",
       " ('2024-9-20', '1 USD = 15,161 IDR'),\n",
       " ('2024-9-19', '1 USD = 15,202 IDR'),\n",
       " ('2024-9-18', '1 USD = 15,321 IDR'),\n",
       " ('2024-9-17', '1 USD = 15,371 IDR'),\n",
       " ('2024-9-16', '1 USD = 15,376 IDR'),\n",
       " ('2024-9-13', '1 USD = 15,412 IDR'),\n",
       " ('2024-9-12', '1 USD = 15,435 IDR'),\n",
       " ('2024-9-11', '1 USD = 15,445 IDR'),\n",
       " ('2024-9-10', '1 USD = 15,494 IDR'),\n",
       " ('2024-9-9', '1 USD = 15,482 IDR'),\n",
       " ('2024-9-6', '1 USD = 15,458 IDR'),\n",
       " ('2024-9-5', '1 USD = 15,424 IDR'),\n",
       " ('2024-9-4', '1 USD = 15,458 IDR'),\n",
       " ('2024-9-3', '1 USD = 15,557 IDR'),\n",
       " ('2024-9-2', '1 USD = 15,554 IDR'),\n",
       " ('2024-8-30', '1 USD = 15,532 IDR'),\n",
       " ('2024-8-29', '1 USD = 15,466 IDR'),\n",
       " ('2024-8-28', '1 USD = 15,446 IDR'),\n",
       " ('2024-8-27', '1 USD = 15,481 IDR'),\n",
       " ('2024-8-26', '1 USD = 15,483 IDR'),\n",
       " ('2024-8-23', '1 USD = 15,401 IDR'),\n",
       " ('2024-8-22', '1 USD = 15,751 IDR'),\n",
       " ('2024-8-21', '1 USD = 15,508 IDR'),\n",
       " ('2024-8-20', '1 USD = 15,449 IDR'),\n",
       " ('2024-8-19', '1 USD = 15,530 IDR'),\n",
       " ('2024-8-16', '1 USD = 15,698 IDR'),\n",
       " ('2024-8-15', '1 USD = 15,773 IDR'),\n",
       " ('2024-8-14', '1 USD = 15,634 IDR'),\n",
       " ('2024-8-13', '1 USD = 15,756 IDR'),\n",
       " ('2024-8-12', '1 USD = 15,948 IDR'),\n",
       " ('2024-8-9', '1 USD = 15,950 IDR'),\n",
       " ('2024-8-8', '1 USD = 15,985 IDR'),\n",
       " ('2024-8-7', '1 USD = 16,030 IDR'),\n",
       " ('2024-8-6', '1 USD = 16,175 IDR'),\n",
       " ('2024-8-5', '1 USD = 16,222 IDR'),\n",
       " ('2024-8-2', '1 USD = 16,176 IDR'),\n",
       " ('2024-8-1', '1 USD = 16,275 IDR'),\n",
       " ('2024-7-31', '1 USD = 16,251 IDR'),\n",
       " ('2024-7-30', '1 USD = 16,326 IDR'),\n",
       " ('2024-7-29', '1 USD = 16,297 IDR'),\n",
       " ('2024-7-26', '1 USD = 16,304 IDR'),\n",
       " ('2024-7-25', '1 USD = 16,332 IDR'),\n",
       " ('2024-7-24', '1 USD = 16,245 IDR'),\n",
       " ('2024-7-23', '1 USD = 16,219 IDR'),\n",
       " ('2024-7-22', '1 USD = 16,218 IDR'),\n",
       " ('2024-7-19', '1 USD = 16,213 IDR'),\n",
       " ('2024-7-18', '1 USD = 16,181 IDR'),\n",
       " ('2024-7-17', '1 USD = 16,151 IDR'),\n",
       " ('2024-7-16', '1 USD = 16,166 IDR'),\n",
       " ('2024-7-15', '1 USD = 16,192 IDR')]"
      ]
     },
     "execution_count": 270,
     "metadata": {},
     "output_type": "execute_result"
    }
   ],
   "source": [
    "temp = []  # Initiating a tuple\n",
    "\n",
    "for i in range(0, row_length):\n",
    "   #get dates\n",
    "   date = table.find_all('a',attrs={'class':'w'})[i].text\n",
    "   #get exchange rate\n",
    "   exchange_rate = table.find_all('span',attrs={'class':'w'})[i].text\n",
    "   # exchange_rate == exchange_rate.strip() #to remove excess white space\n",
    "\n",
    "\n",
    "   print(exchange_rate)\n",
    "   temp.append((date,exchange_rate))\n",
    "\n",
    "temp"
   ]
  },
  {
   "cell_type": "markdown",
   "metadata": {},
   "source": [
    "Note: You can customize the code inside the loop according to your needs to extract the desired information from the website you scrap. Make sure to check and adjust the code well to suit the HTML structure and information you want to retrieve."
   ]
  },
  {
   "cell_type": "markdown",
   "metadata": {},
   "source": [
    "## Creating data frame & Data wrangling"
   ]
  },
  {
   "cell_type": "markdown",
   "metadata": {},
   "source": [
    "Once we have extracted the data, we can put it into a dataframe."
   ]
  },
  {
   "cell_type": "code",
   "execution_count": 271,
   "metadata": {
    "ExecuteTime": {
     "end_time": "2020-01-13T05:12:41.517372Z",
     "start_time": "2020-01-13T05:12:29.130015Z"
    }
   },
   "outputs": [
    {
     "data": {
      "text/html": [
       "<div>\n",
       "<style scoped>\n",
       "    .dataframe tbody tr th:only-of-type {\n",
       "        vertical-align: middle;\n",
       "    }\n",
       "\n",
       "    .dataframe tbody tr th {\n",
       "        vertical-align: top;\n",
       "    }\n",
       "\n",
       "    .dataframe thead th {\n",
       "        text-align: right;\n",
       "    }\n",
       "</style>\n",
       "<table border=\"1\" class=\"dataframe\">\n",
       "  <thead>\n",
       "    <tr style=\"text-align: right;\">\n",
       "      <th></th>\n",
       "      <th>date</th>\n",
       "      <th>exchange_rate</th>\n",
       "    </tr>\n",
       "  </thead>\n",
       "  <tbody>\n",
       "    <tr>\n",
       "      <th>0</th>\n",
       "      <td>2025-1-9</td>\n",
       "      <td>1 USD = 16,254 IDR</td>\n",
       "    </tr>\n",
       "    <tr>\n",
       "      <th>1</th>\n",
       "      <td>2025-1-8</td>\n",
       "      <td>1 USD = 16,246 IDR</td>\n",
       "    </tr>\n",
       "    <tr>\n",
       "      <th>2</th>\n",
       "      <td>2025-1-7</td>\n",
       "      <td>1 USD = 16,224 IDR</td>\n",
       "    </tr>\n",
       "    <tr>\n",
       "      <th>3</th>\n",
       "      <td>2025-1-6</td>\n",
       "      <td>1 USD = 16,194 IDR</td>\n",
       "    </tr>\n",
       "    <tr>\n",
       "      <th>4</th>\n",
       "      <td>2025-1-3</td>\n",
       "      <td>1 USD = 16,200 IDR</td>\n",
       "    </tr>\n",
       "  </tbody>\n",
       "</table>\n",
       "</div>"
      ],
      "text/plain": [
       "       date       exchange_rate\n",
       "0  2025-1-9  1 USD = 16,254 IDR\n",
       "1  2025-1-8  1 USD = 16,246 IDR\n",
       "2  2025-1-7  1 USD = 16,224 IDR\n",
       "3  2025-1-6  1 USD = 16,194 IDR\n",
       "4  2025-1-3  1 USD = 16,200 IDR"
      ]
     },
     "execution_count": 271,
     "metadata": {},
     "output_type": "execute_result"
    }
   ],
   "source": [
    "import pandas as pd\n",
    "\n",
    "df = pd.DataFrame(temp, columns= ('date','exchange_rate'))\n",
    "df.head()"
   ]
  },
  {
   "cell_type": "code",
   "execution_count": 272,
   "metadata": {},
   "outputs": [
    {
     "data": {
      "text/plain": [
       "date             object\n",
       "exchange_rate    object\n",
       "dtype: object"
      ]
     },
     "execution_count": 272,
     "metadata": {},
     "output_type": "execute_result"
    }
   ],
   "source": [
    "df.dtypes"
   ]
  },
  {
   "cell_type": "markdown",
   "metadata": {},
   "source": [
    "Changing the type of both datas; date into datetime64[ns] & exchange rate to string"
   ]
  },
  {
   "cell_type": "code",
   "execution_count": 273,
   "metadata": {},
   "outputs": [
    {
     "data": {
      "text/html": [
       "<div>\n",
       "<style scoped>\n",
       "    .dataframe tbody tr th:only-of-type {\n",
       "        vertical-align: middle;\n",
       "    }\n",
       "\n",
       "    .dataframe tbody tr th {\n",
       "        vertical-align: top;\n",
       "    }\n",
       "\n",
       "    .dataframe thead th {\n",
       "        text-align: right;\n",
       "    }\n",
       "</style>\n",
       "<table border=\"1\" class=\"dataframe\">\n",
       "  <thead>\n",
       "    <tr style=\"text-align: right;\">\n",
       "      <th></th>\n",
       "      <th>date</th>\n",
       "      <th>exchange_rate</th>\n",
       "    </tr>\n",
       "  </thead>\n",
       "  <tbody>\n",
       "    <tr>\n",
       "      <th>0</th>\n",
       "      <td>2025-01-09</td>\n",
       "      <td>1 USD = 16,254 IDR</td>\n",
       "    </tr>\n",
       "    <tr>\n",
       "      <th>1</th>\n",
       "      <td>2025-01-08</td>\n",
       "      <td>1 USD = 16,246 IDR</td>\n",
       "    </tr>\n",
       "    <tr>\n",
       "      <th>2</th>\n",
       "      <td>2025-01-07</td>\n",
       "      <td>1 USD = 16,224 IDR</td>\n",
       "    </tr>\n",
       "    <tr>\n",
       "      <th>3</th>\n",
       "      <td>2025-01-06</td>\n",
       "      <td>1 USD = 16,194 IDR</td>\n",
       "    </tr>\n",
       "    <tr>\n",
       "      <th>4</th>\n",
       "      <td>2025-01-03</td>\n",
       "      <td>1 USD = 16,200 IDR</td>\n",
       "    </tr>\n",
       "  </tbody>\n",
       "</table>\n",
       "</div>"
      ],
      "text/plain": [
       "        date       exchange_rate\n",
       "0 2025-01-09  1 USD = 16,254 IDR\n",
       "1 2025-01-08  1 USD = 16,246 IDR\n",
       "2 2025-01-07  1 USD = 16,224 IDR\n",
       "3 2025-01-06  1 USD = 16,194 IDR\n",
       "4 2025-01-03  1 USD = 16,200 IDR"
      ]
     },
     "execution_count": 273,
     "metadata": {},
     "output_type": "execute_result"
    }
   ],
   "source": [
    "df['exchange_rate'] = df['exchange_rate'].astype('str')\n",
    "df['date'] = df['date'].astype('datetime64[ns]')\n",
    "df.head()"
   ]
  },
  {
   "cell_type": "markdown",
   "metadata": {},
   "source": [
    "### Data Cleansing\n",
    "\n",
    "Removing text and newline characters from 'exchange_rate'"
   ]
  },
  {
   "cell_type": "code",
   "execution_count": 275,
   "metadata": {
    "ExecuteTime": {
     "end_time": "2020-01-13T05:12:59.165559Z",
     "start_time": "2020-01-13T05:12:58.910012Z"
    }
   },
   "outputs": [
    {
     "data": {
      "text/html": [
       "<div>\n",
       "<style scoped>\n",
       "    .dataframe tbody tr th:only-of-type {\n",
       "        vertical-align: middle;\n",
       "    }\n",
       "\n",
       "    .dataframe tbody tr th {\n",
       "        vertical-align: top;\n",
       "    }\n",
       "\n",
       "    .dataframe thead th {\n",
       "        text-align: right;\n",
       "    }\n",
       "</style>\n",
       "<table border=\"1\" class=\"dataframe\">\n",
       "  <thead>\n",
       "    <tr style=\"text-align: right;\">\n",
       "      <th></th>\n",
       "      <th>date</th>\n",
       "      <th>exchange_rate</th>\n",
       "    </tr>\n",
       "  </thead>\n",
       "  <tbody>\n",
       "    <tr>\n",
       "      <th>0</th>\n",
       "      <td>2025-01-09</td>\n",
       "      <td>16254</td>\n",
       "    </tr>\n",
       "    <tr>\n",
       "      <th>1</th>\n",
       "      <td>2025-01-08</td>\n",
       "      <td>16246</td>\n",
       "    </tr>\n",
       "    <tr>\n",
       "      <th>2</th>\n",
       "      <td>2025-01-07</td>\n",
       "      <td>16224</td>\n",
       "    </tr>\n",
       "    <tr>\n",
       "      <th>3</th>\n",
       "      <td>2025-01-06</td>\n",
       "      <td>16194</td>\n",
       "    </tr>\n",
       "    <tr>\n",
       "      <th>4</th>\n",
       "      <td>2025-01-03</td>\n",
       "      <td>16200</td>\n",
       "    </tr>\n",
       "  </tbody>\n",
       "</table>\n",
       "</div>"
      ],
      "text/plain": [
       "        date  exchange_rate\n",
       "0 2025-01-09          16254\n",
       "1 2025-01-08          16246\n",
       "2 2025-01-07          16224\n",
       "3 2025-01-06          16194\n",
       "4 2025-01-03          16200"
      ]
     },
     "execution_count": 275,
     "metadata": {},
     "output_type": "execute_result"
    }
   ],
   "source": [
    "df['exchange_rate'] = df['exchange_rate'].str.replace('1 USD = ', '').str.replace('IDR','')\n",
    "df['exchange_rate'] = df['exchange_rate'].str.replace(',','')\n",
    "df['exchange_rate'] = df['exchange_rate'].astype('int')\n",
    "df.head()"
   ]
  },
  {
   "cell_type": "markdown",
   "metadata": {},
   "source": [
    "### Data Visualization\n",
    "\n",
    "To make a nice visualization and make the data easy to read, we can set the 'date' column as index first:"
   ]
  },
  {
   "cell_type": "code",
   "execution_count": 276,
   "metadata": {},
   "outputs": [
    {
     "data": {
      "text/html": [
       "<div>\n",
       "<style scoped>\n",
       "    .dataframe tbody tr th:only-of-type {\n",
       "        vertical-align: middle;\n",
       "    }\n",
       "\n",
       "    .dataframe tbody tr th {\n",
       "        vertical-align: top;\n",
       "    }\n",
       "\n",
       "    .dataframe thead th {\n",
       "        text-align: right;\n",
       "    }\n",
       "</style>\n",
       "<table border=\"1\" class=\"dataframe\">\n",
       "  <thead>\n",
       "    <tr style=\"text-align: right;\">\n",
       "      <th></th>\n",
       "      <th>exchange_rate</th>\n",
       "    </tr>\n",
       "    <tr>\n",
       "      <th>date</th>\n",
       "      <th></th>\n",
       "    </tr>\n",
       "  </thead>\n",
       "  <tbody>\n",
       "    <tr>\n",
       "      <th>2025-01-09</th>\n",
       "      <td>16254</td>\n",
       "    </tr>\n",
       "    <tr>\n",
       "      <th>2025-01-08</th>\n",
       "      <td>16246</td>\n",
       "    </tr>\n",
       "    <tr>\n",
       "      <th>2025-01-07</th>\n",
       "      <td>16224</td>\n",
       "    </tr>\n",
       "    <tr>\n",
       "      <th>2025-01-06</th>\n",
       "      <td>16194</td>\n",
       "    </tr>\n",
       "    <tr>\n",
       "      <th>2025-01-03</th>\n",
       "      <td>16200</td>\n",
       "    </tr>\n",
       "  </tbody>\n",
       "</table>\n",
       "</div>"
      ],
      "text/plain": [
       "            exchange_rate\n",
       "date                     \n",
       "2025-01-09          16254\n",
       "2025-01-08          16246\n",
       "2025-01-07          16224\n",
       "2025-01-06          16194\n",
       "2025-01-03          16200"
      ]
     },
     "execution_count": 276,
     "metadata": {},
     "output_type": "execute_result"
    }
   ],
   "source": [
    "df = df.set_index('date')\n",
    "df.head()"
   ]
  },
  {
   "cell_type": "markdown",
   "metadata": {},
   "source": [
    "### Implementing your webscrapping to the flask dashboard\n",
    "\n",
    "- Copy paste all of your web scrapping process to the desired position on the `app.py`\n",
    "- Change the title of the dashboard in `index.html`"
   ]
  },
  {
   "cell_type": "markdown",
   "metadata": {},
   "source": [
    "## Finishing This Notebook with Your Analysis and Conclusion\n",
    "\n",
    "First you can do start with making the data visualization."
   ]
  },
  {
   "cell_type": "code",
   "execution_count": 278,
   "metadata": {
    "ExecuteTime": {
     "end_time": "2020-01-13T05:20:56.208237Z",
     "start_time": "2020-01-13T05:20:56.076043Z"
    }
   },
   "outputs": [
    {
     "data": {
      "text/plain": [
       "<Axes: xlabel='date'>"
      ]
     },
     "execution_count": 278,
     "metadata": {},
     "output_type": "execute_result"
    },
    {
     "data": {
      "image/png": "[encoded data removed]",
      "text/plain": [
       "<Figure size 640x480 with 1 Axes>"
      ]
     },
     "metadata": {},
     "output_type": "display_data"
    }
   ],
   "source": [
    "df.plot()"
   ]
  },
  {
   "cell_type": "markdown",
   "metadata": {},
   "source": [
    "## Analysis\n",
    "\n",
    "The exchange rate between USD and IDR fuctuates over the six months period. The highest exchange rate happened in August 2024 and end of December 2025, reaching over IDR 16,200, while the lowest rate was on September 2024 at around IDR 15,100."
   ]
  },
  {
   "cell_type": "markdown",
   "metadata": {},
   "source": [
    "### Extra Challange\n",
    "\n",
    "This will be not included to the scoring. \n",
    "\n",
    "- You can create additional visualization/analysis from the data.\n",
    "- Implement it to the dashboard with at `app.py` dan `index.html`."
   ]
  }
 ],
 "metadata": {
  "kernelspec": {
   "display_name": "apollo_da",
   "language": "python",
   "name": "python3"
  },
  "language_info": {
   "codemirror_mode": {
    "name": "ipython",
    "version": 3
   },
   "file_extension": ".py",
   "mimetype": "text/x-python",
   "name": "python",
   "nbconvert_exporter": "python",
   "pygments_lexer": "ipython3",
   "version": "3.12.8"
  }
 },
 "nbformat": 4,
 "nbformat_minor": 2
}
